{
 "cells": [
  {
   "cell_type": "code",
   "execution_count": 2,
   "id": "ab0d5c5c-d1bd-470a-8386-2ea7898d4a21",
   "metadata": {},
   "outputs": [],
   "source": [
    "import folium\n",
    "from folium.plugins import MarkerCluster\n",
    "\n",
    "# Centro de la Bahía de Talcahuano\n",
    "m = folium.Map(location=[-36.721, -73.12], zoom_start=13)\n",
    "\n",
    "# Añadir un punto\n",
    "folium.Marker(location=[-36.722, -73.11], popup=\"Base Naval\").add_to(m)\n",
    "\n",
    "# Mostrar mapa\n",
    "m.save(\"mapa_talcahuano.html\")"
   ]
  },
  {
   "cell_type": "code",
   "execution_count": 3,
   "id": "5f443902-9713-4c6c-aa64-a6c39316770e",
   "metadata": {},
   "outputs": [],
   "source": [
    "locations = {\n",
    "    \"Base Naval\": (-36.722, -73.11),\n",
    "    \"Isla Quiriquina\": (-36.598, -73.028),\n",
    "    \"Puerto San Vicente\": (-36.737, -73.142),\n",
    "    \"Caleta Lenga\": (-36.759, -73.103),\n",
    "    # etc.\n",
    "}"
   ]
  },
  {
   "cell_type": "code",
   "execution_count": 5,
   "id": "c8a2d3a1-1c12-4932-b83c-63a95adeaa60",
   "metadata": {},
   "outputs": [
    {
     "name": "stdout",
     "output_type": "stream",
     "text": [
      "Distancia: 3.31 km\n"
     ]
    }
   ],
   "source": [
    "from geopy.distance import geodesic\n",
    "\n",
    "a = locations[\"Base Naval\"]\n",
    "b = locations[\"Puerto San Vicente\"]\n",
    "\n",
    "print(f\"Distancia: {geodesic(a, b).km:.2f} km\")"
   ]
  },
  {
   "cell_type": "code",
   "execution_count": 6,
   "id": "264b6311-c3b0-4732-bebc-23616fa52cc9",
   "metadata": {},
   "outputs": [
    {
     "data": {
      "text/plain": [
       "<folium.vector_layers.PolyLine at 0x127665c60>"
      ]
     },
     "execution_count": 6,
     "metadata": {},
     "output_type": "execute_result"
    }
   ],
   "source": [
    "folium.PolyLine(locations=[a, b], color=\"blue\").add_to(m)"
   ]
  },
  {
   "cell_type": "code",
   "execution_count": 13,
   "id": "9a60ca91-d0bd-4114-a1ef-3160b4f1192a",
   "metadata": {},
   "outputs": [],
   "source": [
    "import folium\n",
    "\n",
    "# Crear un nuevo mapa centrado en la Bahía de Concepción\n",
    "map_center = [-36.721, -73.12]\n",
    "m = folium.Map(location=map_center, zoom_start=13)\n",
    "\n",
    "# Definimos los nodos principales y la base\n",
    "locations = {\n",
    "    \"Base Quiriquina Norte\": (-36.580, -73.025),  # Base de helicópteros\n",
    "    \"Zona Penco Centro\": (-36.692, -72.996),\n",
    "    \"Zona Hualpén\": (-36.781, -73.123),\n",
    "    \"Zona Concepción Centro\": (-36.826, -73.050),\n",
    "    \"Zona Tumbes Norte\": (-36.734, -73.200),\n",
    "}\n",
    "\n",
    "# Añadir marcadores al mapa\n",
    "for name, coords in locations.items():\n",
    "    folium.Marker(location=coords, popup=name).add_to(m)\n",
    "\n",
    "# Guardar el nuevo mapa\n",
    "m.save(\"data/mapa_talp_zonas_operacionales.html\")"
   ]
  },
  {
   "cell_type": "code",
   "execution_count": null,
   "id": "7de3b877-a378-4df6-b533-0f7d4f0e6b03",
   "metadata": {},
   "outputs": [],
   "source": []
  }
 ],
 "metadata": {
  "kernelspec": {
   "display_name": "Python 3 (ipykernel)",
   "language": "python",
   "name": "python3"
  },
  "language_info": {
   "codemirror_mode": {
    "name": "ipython",
    "version": 3
   },
   "file_extension": ".py",
   "mimetype": "text/x-python",
   "name": "python",
   "nbconvert_exporter": "python",
   "pygments_lexer": "ipython3",
   "version": "3.10.4"
  },
  "widgets": {
   "application/vnd.jupyter.widget-state+json": {
    "state": {},
    "version_major": 2,
    "version_minor": 0
   }
  }
 },
 "nbformat": 4,
 "nbformat_minor": 5
}
